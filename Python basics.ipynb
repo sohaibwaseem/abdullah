{
 "cells": [
  {
   "cell_type": "code",
   "execution_count": 1,
   "id": "8bbe0545",
   "metadata": {},
   "outputs": [
    {
     "name": "stdout",
     "output_type": "stream",
     "text": [
      "Hello world\n"
     ]
    }
   ],
   "source": [
    "print ('Hello world')"
   ]
  },
  {
   "cell_type": "markdown",
   "id": "2b135b03",
   "metadata": {},
   "source": [
    "# Sum "
   ]
  },
  {
   "cell_type": "code",
   "execution_count": 2,
   "id": "9c363279",
   "metadata": {},
   "outputs": [
    {
     "name": "stdout",
     "output_type": "stream",
     "text": [
      "1.5 + 2.5 =  4.0\n"
     ]
    }
   ],
   "source": [
    "num1 = 1.5\n",
    "num2 = 2.5\n",
    "Sum = num1 + num2\n",
    "print('1.5 + 2.5 = ', Sum)"
   ]
  },
  {
   "cell_type": "code",
   "execution_count": 3,
   "id": "4c968112",
   "metadata": {},
   "outputs": [
    {
     "name": "stdout",
     "output_type": "stream",
     "text": [
      "Enter Number: 67\n",
      "Enter Number: 90\n",
      "157.0\n"
     ]
    }
   ],
   "source": [
    "num1 = float(input('Enter Number: '))\n",
    "num2 = float(input('Enter Number: '))\n",
    "Sum1 = num1 + num2\n",
    "print (Sum1)"
   ]
  },
  {
   "cell_type": "markdown",
   "id": "7f456b08",
   "metadata": {},
   "source": [
    "# Square Root"
   ]
  },
  {
   "cell_type": "code",
   "execution_count": 4,
   "id": "7ba25b8b",
   "metadata": {},
   "outputs": [
    {
     "name": "stdout",
     "output_type": "stream",
     "text": [
      "2.8284271247461903\n"
     ]
    }
   ],
   "source": [
    "num3 = 8\n",
    "num_sqrt = num3 ** 0.5\n",
    "print(num_sqrt)"
   ]
  },
  {
   "cell_type": "code",
   "execution_count": 5,
   "id": "b1d0fc70",
   "metadata": {},
   "outputs": [
    {
     "name": "stdout",
     "output_type": "stream",
     "text": [
      "(1.442615274452683+1.0397782600555705j)\n"
     ]
    }
   ],
   "source": [
    "#Square root of a complex Number\n",
    "import cmath\n",
    "num4 = 1 + 3j\n",
    "num_sqrt1 = cmath.sqrt(num4)\n",
    "print(num_sqrt1)"
   ]
  },
  {
   "cell_type": "markdown",
   "id": "34cf1103",
   "metadata": {},
   "source": [
    "# Temprature convertion"
   ]
  },
  {
   "cell_type": "code",
   "execution_count": 6,
   "id": "fc08ba46",
   "metadata": {},
   "outputs": [
    {
     "name": "stdout",
     "output_type": "stream",
     "text": [
      "Enter Temprature: 37\n",
      "37.0 °C = 98.6 °F\n"
     ]
    }
   ],
   "source": [
    "#1°C = 33.8°F\n",
    "#(1°C × 9/5) + 32 = 33.8°F\n",
    "\n",
    "temp = float(input('Enter Temprature: '))\n",
    "c = (temp * 9/5) + 32\n",
    "print(temp,'°C =',c,'°F')"
   ]
  },
  {
   "cell_type": "markdown",
   "id": "9b8cd61a",
   "metadata": {},
   "source": [
    "# Area of Triangle"
   ]
  },
  {
   "cell_type": "code",
   "execution_count": 7,
   "id": "0f92f2f5",
   "metadata": {},
   "outputs": [
    {
     "name": "stdout",
     "output_type": "stream",
     "text": [
      "Enter side1: 5\n",
      "Enter side2: 6\n",
      "Enter side3: 7\n",
      "S =  9.0\n",
      "Area is:  14.696938456699069\n"
     ]
    }
   ],
   "source": [
    "a = float(input('Enter side1: '))\n",
    "b = float(input('Enter side2: '))\n",
    "c1 = float(input('Enter side3: '))\n",
    "s = (a + b + c1) / 2\n",
    "Area = (s*(s-a)*(s-b)*(s-c1)) ** 0.5\n",
    "print(\"S = \",s)\n",
    "print (\"Area is: \", Area)"
   ]
  },
  {
   "cell_type": "markdown",
   "id": "c5150bcc",
   "metadata": {},
   "source": [
    "# Use of 'If', 'Elif', 'Else'"
   ]
  },
  {
   "cell_type": "code",
   "execution_count": 8,
   "id": "89dde91a",
   "metadata": {},
   "outputs": [
    {
     "name": "stdout",
     "output_type": "stream",
     "text": [
      "false\n"
     ]
    }
   ],
   "source": [
    "i = 10\n",
    "if i > 15:\n",
    "    print('true')\n",
    "else:\n",
    "    print ('false')"
   ]
  },
  {
   "cell_type": "code",
   "execution_count": 9,
   "id": "f5a5ec84",
   "metadata": {},
   "outputs": [
    {
     "name": "stdout",
     "output_type": "stream",
     "text": [
      "i is greater than 15\n",
      "i'm in else Block\n",
      "i'm not in if and not in else Block\n"
     ]
    }
   ],
   "source": [
    "i = 20;\n",
    "if (i < 15):\n",
    "    print (\"i is smaller than 15\")\n",
    "    print (\"i'm in if Block\")\n",
    "else:\n",
    "    print (\"i is greater than 15\")\n",
    "    print (\"i'm in else Block\")\n",
    "print (\"i'm not in if and not in else Block\")"
   ]
  },
  {
   "cell_type": "code",
   "execution_count": 10,
   "id": "6ef4b8d9",
   "metadata": {},
   "outputs": [
    {
     "name": "stdout",
     "output_type": "stream",
     "text": [
      "i is smaller than 15\n",
      "i is smaller than 12 too\n"
     ]
    }
   ],
   "source": [
    "# python program to illustrate nested If\n",
    "#statement\n",
    "#!/usr/bin/python\n",
    "i = 10\n",
    "if (i == 10):\n",
    " # First if statement\n",
    " if (i < 15):\n",
    "    print (\"i is smaller than 15\")\n",
    " # Nested - if statement\n",
    " # Will only be executed if statement above\n",
    " # it is true\n",
    " if (i < 12):\n",
    "    print (\"i is smaller than 12 too\")\n",
    "else:\n",
    "     print (\"i is greater than 15\") \n"
   ]
  },
  {
   "cell_type": "code",
   "execution_count": 11,
   "id": "a49cacaa",
   "metadata": {},
   "outputs": [
    {
     "name": "stdout",
     "output_type": "stream",
     "text": [
      "i is 20\n"
     ]
    }
   ],
   "source": [
    "# Python program to illustrate if-elif-else\n",
    "#ladder\n",
    "#!/usr/bin/python\n",
    "\n",
    "i = 20\n",
    "if (i == 10):\n",
    "    print (\"i is 10\")\n",
    "elif (i == 15):\n",
    "    print (\"i is 15\")\n",
    "elif (i == 20):\n",
    "    print (\"i is 20\")\n",
    "else:\n",
    "    print (\"i is not present\")"
   ]
  },
  {
   "cell_type": "markdown",
   "id": "fe606d6f",
   "metadata": {},
   "source": [
    "# Python Loops"
   ]
  },
  {
   "attachments": {
    "for-loop-python.png": {
     "image/png": "[encoded data removed]"
    }
   },
   "cell_type": "markdown",
   "id": "2eb7137a",
   "metadata": {},
   "source": [
    "![for-loop-python.png](attachment:for-loop-python.png)"
   ]
  },
  {
   "cell_type": "markdown",
   "id": "a9205acc",
   "metadata": {},
   "source": [
    "# For loop"
   ]
  },
  {
   "cell_type": "code",
   "execution_count": 12,
   "id": "994e2717",
   "metadata": {},
   "outputs": [
    {
     "name": "stdout",
     "output_type": "stream",
     "text": [
      "List Iteration\n",
      "Syed\n",
      "Abdullah\n",
      "Waseem\n",
      "\n",
      "Tuple Iteration\n",
      "Syed\n",
      "Abdullah\n",
      "Waseem\n",
      "\n",
      "String Iteration\n",
      "A\n",
      "b\n",
      "d\n",
      "u\n",
      "l\n",
      "l\n",
      "a\n",
      "h\n",
      "\n",
      "Dictionary Iteration\n",
      "xyz  123\n",
      "abc  345\n"
     ]
    }
   ],
   "source": [
    "# Python program to illustrate\n",
    "# Iterating over a list\n",
    "print(\"List Iteration\")\n",
    "l = [\"Syed\", \"Abdullah\", \"Waseem\"]\n",
    "for i in l:\n",
    "    print(i)\n",
    "\n",
    "# Iterating over a tuple (immutable)\n",
    "print(\"\\nTuple Iteration\")\n",
    "t = (\"Syed\", \"Abdullah\", \"Waseem\")\n",
    "for i in t:\n",
    "    print(i)\n",
    "\n",
    "# Iterating over a String\n",
    "print(\"\\nString Iteration\")\n",
    "s = \"Abdullah\"\n",
    "for i in s:\n",
    "    print(i)\n",
    "\n",
    "# Iterating over dictionary\n",
    "print(\"\\nDictionary Iteration\")\n",
    "d = dict()\n",
    "d['xyz'] = 123\n",
    "d['abc'] = 345\n",
    "for i in d:\n",
    "    print(\"% s % d\" % (i, d[i]))\n"
   ]
  },
  {
   "cell_type": "code",
   "execution_count": 13,
   "id": "bf42ff8e",
   "metadata": {},
   "outputs": [
    {
     "name": "stdout",
     "output_type": "stream",
     "text": [
      "Current Letter : y\n",
      "Current Letter : d\n",
      "Current Letter : A\n",
      "Current Letter : b\n",
      "Current Letter : d\n",
      "Current Letter : u\n",
      "Current Letter : l\n",
      "Current Letter : l\n",
      "Current Letter : a\n",
      "Current Letter : h\n"
     ]
    }
   ],
   "source": [
    "# Prints all letters except 'e' and 's'\n",
    "for letter in 'SyedAbdullah':\n",
    "    if letter == 'e' or letter == 'S':\n",
    "        continue\n",
    "    print('Current Letter :', letter)\n"
   ]
  },
  {
   "cell_type": "code",
   "execution_count": 14,
   "id": "ef6414af",
   "metadata": {},
   "outputs": [
    {
     "name": "stdout",
     "output_type": "stream",
     "text": [
      "Current Letter : S\n"
     ]
    }
   ],
   "source": [
    "for letter in 'SeydAbdullah':\n",
    "# break the loop as soon it sees 'e'\n",
    "# or 's'\n",
    "    if letter == 'e' or letter == 'S':\n",
    "        break\n",
    "print('Current Letter :', letter)\n"
   ]
  },
  {
   "cell_type": "code",
   "execution_count": 15,
   "id": "58300fa9",
   "metadata": {},
   "outputs": [
    {
     "name": "stdout",
     "output_type": "stream",
     "text": [
      "Last Letter : h\n"
     ]
    }
   ],
   "source": [
    "# An empty loop\n",
    "for letter in 'SyedAbdullah':\n",
    "    pass\n",
    "print('Last Letter :', letter)\n"
   ]
  },
  {
   "cell_type": "code",
   "execution_count": 16,
   "id": "23405128",
   "metadata": {},
   "outputs": [
    {
     "name": "stdout",
     "output_type": "stream",
     "text": [
      "0 1 2 3 4 5 6 7 8 9 \n",
      "10 20 30 40 \n",
      "Sum of first 10 numbers : 45\n"
     ]
    }
   ],
   "source": [
    "# Python Program to\n",
    "# show range() basics\n",
    "\n",
    "# printing a number\n",
    "for i in range(10):\n",
    "    print(i, end=\" \") #, end=\" \" to display numbers in a line\n",
    "print()               #print() to diplay next list in next line\n",
    "\n",
    "# using range for iteration\n",
    "l = [10, 20, 30, 40]\n",
    "for i in range(len(l)):\n",
    "    print(l[i], end=\" \")\n",
    "print()\n",
    "\n",
    "# performing sum of first 10 numbers\n",
    "sum = 0\n",
    "for i in range(1, 10):\n",
    "    sum = sum + i\n",
    "print(\"Sum of first 10 numbers :\", sum)"
   ]
  },
  {
   "cell_type": "code",
   "execution_count": 17,
   "id": "d3f81c47",
   "metadata": {},
   "outputs": [
    {
     "name": "stdout",
     "output_type": "stream",
     "text": [
      "1\n",
      "2\n",
      "3\n",
      "No Break\n",
      "\n",
      "1\n"
     ]
    }
   ],
   "source": [
    "# Python program to demonstrate\n",
    "# for-else loop\n",
    "\n",
    "for i in range(1, 4):\n",
    "    print(i)\n",
    "else: # Executed because no break in for\n",
    "    print(\"No Break\\n\")\n",
    "for i in range(1, 4):\n",
    "    print(i)\n",
    "    break\n",
    "else: # Not executed as there is a break\n",
    "    print(\"No Break\")\n"
   ]
  },
  {
   "cell_type": "code",
   "execution_count": 18,
   "id": "56727c9b",
   "metadata": {},
   "outputs": [
    {
     "name": "stdout",
     "output_type": "stream",
     "text": [
      "Emporium mall is a best mall in Lahore "
     ]
    }
   ],
   "source": [
    "# python code to demonstrate working of enumerate()\n",
    "\n",
    "for key, value in enumerate(['Emporium', 'mall', 'is', 'a', 'best', 'mall', 'in', 'Lahore']):\n",
    "    print(value, end=' ')"
   ]
  },
  {
   "cell_type": "markdown",
   "id": "b925695e",
   "metadata": {},
   "source": [
    "# While Loop"
   ]
  },
  {
   "cell_type": "code",
   "execution_count": 19,
   "id": "a49435af",
   "metadata": {},
   "outputs": [
    {
     "name": "stdout",
     "output_type": "stream",
     "text": [
      "1\n",
      "2\n",
      "3\n",
      "4\n",
      "5\n",
      "No Break\n",
      "\n",
      "1\n"
     ]
    }
   ],
   "source": [
    "# Python program to demonstrate\n",
    "# while-else loop\n",
    "\n",
    "i = 0\n",
    "while i < 5:\n",
    "    i += 1 #i += 1 is basically eqauls to i = i + 1\n",
    "    print(i)\n",
    "else: # Executed because no break in for\n",
    "    print(\"No Break\\n\")\n",
    "\n",
    "i = 0\n",
    "while i < 5:\n",
    "    i += 1\n",
    "    print(i)\n",
    "    break\n",
    "else: # Not executed as there is a break\n",
    "    print(\"No Break\")"
   ]
  },
  {
   "cell_type": "markdown",
   "id": "f62e7cc2",
   "metadata": {},
   "source": [
    "# List"
   ]
  },
  {
   "cell_type": "code",
   "execution_count": 20,
   "id": "75fbe2fa",
   "metadata": {},
   "outputs": [
    {
     "name": "stdout",
     "output_type": "stream",
     "text": [
      "[]\n",
      "[6, 7, 8]\n",
      "[1, 'Salam', 3.4]\n"
     ]
    }
   ],
   "source": [
    "# empty list\n",
    "my_list = []\n",
    "print(my_list)\n",
    "\n",
    "# list of integers\n",
    "my_list1 = [6, 7, 8]\n",
    "print(my_list1)\n",
    "\n",
    "# list with mixed data types\n",
    "my_list2 = [1, \"Salam\", 3.4]\n",
    "print(my_list2)"
   ]
  },
  {
   "cell_type": "code",
   "execution_count": 21,
   "id": "0fdee860",
   "metadata": {},
   "outputs": [
    {
     "name": "stdout",
     "output_type": "stream",
     "text": [
      "['cat', [8, 10, 6], ['G']]\n"
     ]
    }
   ],
   "source": [
    "# nested list\n",
    "my_list3 = [\"cat\", [8, 10, 6], ['G']]\n",
    "print(my_list3)"
   ]
  },
  {
   "cell_type": "code",
   "execution_count": 22,
   "id": "edaf195e",
   "metadata": {},
   "outputs": [
    {
     "name": "stdout",
     "output_type": "stream",
     "text": [
      "a\n",
      "c\n",
      "e\n"
     ]
    }
   ],
   "source": [
    "#Access List Elements\n",
    "# List indexing\n",
    "\n",
    "my_list4 = ['a', 'b', 'c', 'd', 'e']\n",
    "\n",
    "print(my_list4[0])   \n",
    "\n",
    "print(my_list4[2])   \n",
    "\n",
    "print(my_list4[4])  "
   ]
  },
  {
   "cell_type": "code",
   "execution_count": 23,
   "id": "33f1a411",
   "metadata": {},
   "outputs": [
    {
     "name": "stdout",
     "output_type": "stream",
     "text": [
      "j\n",
      "g\n"
     ]
    }
   ],
   "source": [
    "#Negative Indexing\n",
    "my_list5 = ['f', 'g', 'h', 'i', 'j']\n",
    "\n",
    "print(my_list5[-1])  \n",
    "\n",
    "print(my_list5[-4])  "
   ]
  },
  {
   "cell_type": "code",
   "execution_count": 24,
   "id": "6e374738",
   "metadata": {},
   "outputs": [
    {
     "name": "stdout",
     "output_type": "stream",
     "text": [
      "['c', 'd', 'e']\n",
      "['a', 'b', 'c', 'd']\n",
      "['f', 'g', 'h', 'i']\n",
      "['a', 'b', 'c', 'd', 'e', 'f', 'g', 'h', 'i']\n"
     ]
    }
   ],
   "source": [
    "# List slicing in Python\n",
    "\n",
    "my_list6 = ['a','b','c','d','e','f','g','h','i']\n",
    "\n",
    "# includes element at index 2, 3, 4\n",
    "# excludes element at index 5\n",
    "print(my_list6[2:5]) # : means from 2-5\n",
    "\n",
    "# elements beginning to 4th\n",
    "print(my_list6[:-5])\n",
    "\n",
    "# elements 6th to end\n",
    "print(my_list6[5:])\n",
    "\n",
    "# elements beginning to end\n",
    "print(my_list6[:])"
   ]
  },
  {
   "cell_type": "markdown",
   "id": "8a7bc5b2",
   "metadata": {},
   "source": [
    "# Element Slicing"
   ]
  },
  {
   "attachments": {
    "element-slicling.webp": {
     "image/webp": "[encoded data removed]"
    }
   },
   "cell_type": "markdown",
   "id": "42a0578b",
   "metadata": {},
   "source": [
    "![element-slicling.webp](attachment:element-slicling.webp)"
   ]
  },
  {
   "cell_type": "code",
   "execution_count": 25,
   "id": "3cbda485",
   "metadata": {},
   "outputs": [
    {
     "name": "stdout",
     "output_type": "stream",
     "text": [
      "[1, 4, 6, 8]\n",
      "[1, 3, 5, 7]\n"
     ]
    }
   ],
   "source": [
    "#Add Change List Elements\n",
    "# Correcting mistake values in a list\n",
    "odd = [2, 4, 6, 8]\n",
    "\n",
    "# change the 1st item    \n",
    "odd[0] = 1            \n",
    "\n",
    "print(odd)\n",
    "\n",
    "# change 2nd to 4th items\n",
    "odd[1:4] = [3, 5, 7]  \n",
    "\n",
    "print(odd)                   "
   ]
  },
  {
   "cell_type": "code",
   "execution_count": 26,
   "id": "b3674c22",
   "metadata": {},
   "outputs": [
    {
     "name": "stdout",
     "output_type": "stream",
     "text": [
      "[2, 4, 6, 8]\n",
      "[2, 4, 6, 8, 10, 12, 14]\n"
     ]
    }
   ],
   "source": [
    "# Appending and Extending lists in Python\n",
    "even = [2, 4, 6]\n",
    "\n",
    "even.append(8)\n",
    "\n",
    "print(even)\n",
    "\n",
    "even.extend([10, 12, 14])\n",
    "\n",
    "print(even)"
   ]
  },
  {
   "cell_type": "code",
   "execution_count": 27,
   "id": "cd17d41a",
   "metadata": {},
   "outputs": [
    {
     "name": "stdout",
     "output_type": "stream",
     "text": [
      "[1, 7, 11]\n",
      "[1, 5, 9, 7, 11]\n"
     ]
    }
   ],
   "source": [
    "# Demonstration of list insert() method\n",
    "odd = [1, 11]\n",
    "odd.insert(1,7) #1 is index\n",
    "\n",
    "print(odd)\n",
    "\n",
    "odd[1:1] = [5, 9]\n",
    "\n",
    "print(odd)"
   ]
  },
  {
   "cell_type": "code",
   "execution_count": 28,
   "id": "a64abf04",
   "metadata": {},
   "outputs": [
    {
     "name": "stdout",
     "output_type": "stream",
     "text": [
      "['a', 'b', 'd', 'e', 'f', 'g']\n",
      "['a', 'g']\n",
      "[]\n"
     ]
    }
   ],
   "source": [
    "# Deleting list items\n",
    "alpha = ['a', 'b', 'c', 'd', 'e', 'f', 'g']\n",
    "\n",
    "# delete one item\n",
    "del alpha[2]\n",
    "\n",
    "print(alpha)\n",
    "\n",
    "# delete multiple items\n",
    "del alpha[1:5]\n",
    "\n",
    "print(alpha)\n",
    "\n",
    "# delete entire list\n",
    "del alpha\n",
    "print([])"
   ]
  },
  {
   "cell_type": "code",
   "execution_count": 29,
   "id": "3b0e75cc",
   "metadata": {},
   "outputs": [
    {
     "name": "stdout",
     "output_type": "stream",
     "text": [
      "['a', 'b', 'c', 'e', 'f', 'g']\n",
      "b\n",
      "['a', 'c', 'e', 'f', 'g']\n",
      "g\n",
      "['a', 'c', 'e', 'f']\n",
      "[]\n"
     ]
    }
   ],
   "source": [
    "#Using remove, pop and clean method\n",
    "alpha1 = ['a', 'b', 'c', 'd', 'e', 'f', 'g']\n",
    "alpha1.remove('d')\n",
    "\n",
    "print(alpha1)\n",
    "\n",
    "print(alpha1.pop(1))\n",
    "\n",
    "print(alpha1)\n",
    "\n",
    "print(alpha1.pop())\n",
    "\n",
    "print(alpha1)\n",
    "\n",
    "alpha1.clear()\n",
    "\n",
    "print(alpha1)"
   ]
  },
  {
   "cell_type": "code",
   "execution_count": 30,
   "id": "0d10865e",
   "metadata": {},
   "outputs": [
    {
     "name": "stdout",
     "output_type": "stream",
     "text": [
      "I like apple\n",
      "I like banana\n",
      "I like mango\n"
     ]
    }
   ],
   "source": [
    "#apply loop in list\n",
    "for fruit in ['apple','banana','mango']:\n",
    "    print(\"I like\",fruit)"
   ]
  },
  {
   "cell_type": "markdown",
   "id": "5a45954a",
   "metadata": {},
   "source": [
    "# Tuple"
   ]
  },
  {
   "cell_type": "code",
   "execution_count": 31,
   "id": "44ad08fa",
   "metadata": {},
   "outputs": [
    {
     "name": "stdout",
     "output_type": "stream",
     "text": [
      "()\n",
      "(1, 2, 3)\n",
      "(1, 'Hi', 3.4)\n",
      "('Hat', [8, 4, 6], (1, 2, 3))\n"
     ]
    }
   ],
   "source": [
    "# Different types of tuples\n",
    "\n",
    "# Empty tuple\n",
    "my_tuple = ()\n",
    "print(my_tuple)\n",
    "\n",
    "# Tuple having integers\n",
    "my_tuple = (1, 2, 3)\n",
    "print(my_tuple)\n",
    "\n",
    "# tuple with mixed datatypes\n",
    "my_tuple = (1, \"Hi\", 3.4)\n",
    "print(my_tuple)\n",
    "\n",
    "# nested tuple\n",
    "my_tuple = (\"Hat\", [8, 4, 6], (1, 2, 3))\n",
    "print(my_tuple)"
   ]
  },
  {
   "cell_type": "code",
   "execution_count": 32,
   "id": "15e43603",
   "metadata": {},
   "outputs": [
    {
     "name": "stdout",
     "output_type": "stream",
     "text": [
      "(8, 9.5, 'cat')\n"
     ]
    }
   ],
   "source": [
    "my_tuple1 = 8, 9.5, \"cat\"\n",
    "print(my_tuple1)"
   ]
  },
  {
   "cell_type": "code",
   "execution_count": 33,
   "id": "97fc523e",
   "metadata": {},
   "outputs": [
    {
     "name": "stdout",
     "output_type": "stream",
     "text": [
      "<class 'str'>\n",
      "<class 'tuple'>\n",
      "<class 'tuple'>\n"
     ]
    }
   ],
   "source": [
    "#We will need a trailing comma to indicate that it is, in fact, a tuple.\n",
    "my_tuple2 = (\"Salam\")\n",
    "print(type(my_tuple2))  # <class 'str'>\n",
    "\n",
    "# Creating a tuple having one element\n",
    "my_tuple2 = (\"Salam\",)\n",
    "print(type(my_tuple2))  # <class 'tuple'>\n",
    "\n",
    "# Parentheses is optional\n",
    "my_tuple3 = \"Salam\",\n",
    "print(type(my_tuple2))  # <class 'tuple'>"
   ]
  },
  {
   "cell_type": "code",
   "execution_count": 34,
   "id": "f4dc826a",
   "metadata": {},
   "outputs": [
    {
     "name": "stdout",
     "output_type": "stream",
     "text": [
      "p\n",
      "t\n",
      "n\n",
      "4\n"
     ]
    }
   ],
   "source": [
    "#Access Tuple Elements\n",
    "# Accessing tuple elements using indexing\n",
    "my_tuple3 = ('p','e','r','m','i','t')\n",
    "\n",
    "print(my_tuple3[0])   \n",
    "print(my_tuple3[5])  \n",
    "\n",
    "# IndexError: list index out of range\n",
    "# print(my_tuple[6])\n",
    "\n",
    "# Index must be an integer\n",
    "# TypeError: list indices must be integers, not float\n",
    "# my_tuple[2.0]\n",
    "\n",
    "# nested tuple\n",
    "n_tuple = (\"lion\", [8, 4, 6], (1, 2, 3))\n",
    "\n",
    "# nested index\n",
    "print(n_tuple[0][3])       \n",
    "print(n_tuple[1][1])       "
   ]
  },
  {
   "cell_type": "code",
   "execution_count": 35,
   "id": "4f83f0bc",
   "metadata": {},
   "outputs": [
    {
     "name": "stdout",
     "output_type": "stream",
     "text": [
      "(4, 2, 3, [9, 5])\n",
      "('a', 'b', 'c', 'd', 'e', 'f', 'g', 'i', 'z')\n"
     ]
    }
   ],
   "source": [
    "#Changing a Tuple\n",
    "\n",
    "my_tuple4 = (4, 2, 3, [6, 5])\n",
    "\n",
    "\n",
    "# TypeError: 'tuple' object does not support item assignment\n",
    "# my_tuple[1] = 9\n",
    "\n",
    "# However, item of mutable element can be changed\n",
    "my_tuple4[3][0] = 9   \n",
    "print(my_tuple4)\n",
    "\n",
    "# Tuples can be reassigned\n",
    "my_tuple4 = ('a', 'b', 'c', 'd', 'e', 'f', 'g', 'i', 'z')\n",
    "\n",
    "print(my_tuple4)"
   ]
  },
  {
   "cell_type": "code",
   "execution_count": 36,
   "id": "e47f25cc",
   "metadata": {},
   "outputs": [
    {
     "name": "stdout",
     "output_type": "stream",
     "text": [
      "Hello Abdullah\n",
      "Hello Sohaib\n"
     ]
    }
   ],
   "source": [
    "# Iterating Through a Tuple\n",
    "# Using a for loop to iterate through a tuple\n",
    "for name in ('Abdullah', 'Sohaib'):\n",
    "    print(\"Hello\", name)"
   ]
  },
  {
   "cell_type": "markdown",
   "id": "0bc697f9",
   "metadata": {},
   "source": [
    "# Sets"
   ]
  },
  {
   "cell_type": "code",
   "execution_count": 37,
   "id": "9d6999db",
   "metadata": {},
   "outputs": [
    {
     "name": "stdout",
     "output_type": "stream",
     "text": [
      "{1, 2, 3}\n",
      "{1.0, (1, 2, 3), 'Hello'}\n"
     ]
    }
   ],
   "source": [
    "# Different types of sets in Python\n",
    "# set of integers\n",
    "my_set = {1, 2, 3}\n",
    "print(my_set)\n",
    "\n",
    "# set of mixed datatypes\n",
    "my_set = {1.0, \"Hello\", (1, 2, 3)}\n",
    "print(my_set)"
   ]
  },
  {
   "cell_type": "code",
   "execution_count": 38,
   "id": "24a15515",
   "metadata": {},
   "outputs": [
    {
     "name": "stdout",
     "output_type": "stream",
     "text": [
      "{1, 2, 3, 4}\n",
      "{1, 2, 3}\n"
     ]
    }
   ],
   "source": [
    "# set cannot have duplicates\n",
    "my_set1 = {1, 2, 3, 4, 3, 2}\n",
    "print(my_set1)\n",
    "\n",
    "# we can make set from a list\n",
    "my_set1 = set([1, 2, 3, 2])\n",
    "print(my_set1)\n"
   ]
  },
  {
   "cell_type": "code",
   "execution_count": 39,
   "id": "5ff5ee4a",
   "metadata": {},
   "outputs": [
    {
     "name": "stdout",
     "output_type": "stream",
     "text": [
      "<class 'dict'>\n",
      "<class 'set'>\n"
     ]
    }
   ],
   "source": [
    "# Distinguish set and dictionary while creating empty set\n",
    "\n",
    "# initialize a with {}\n",
    "a = {}\n",
    "\n",
    "# check data type of a\n",
    "print(type(a))\n",
    "\n",
    "# initialize a with set()\n",
    "a = set()\n",
    "\n",
    "# check data type of a\n",
    "print(type(a))"
   ]
  },
  {
   "cell_type": "code",
   "execution_count": 40,
   "id": "6b4a9d6b",
   "metadata": {},
   "outputs": [
    {
     "name": "stdout",
     "output_type": "stream",
     "text": [
      "{1, 3}\n",
      "{1, 2, 3}\n",
      "{1, 2, 3, 4}\n",
      "{1, 2, 3, 4, 5, 6, 8}\n"
     ]
    }
   ],
   "source": [
    "#Modifying a set in Python\n",
    "# initialize my_set\n",
    "my_set2 = {1, 3}\n",
    "print(my_set2)\n",
    "\n",
    "\n",
    "my_set2.add(2)\n",
    "print(my_set2)\n",
    "\n",
    "# add multiple elements\n",
    "my_set2.update([2, 3, 4])\n",
    "print(my_set2)\n",
    "\n",
    "# add list and set\n",
    "my_set2.update([4, 5], {1, 6, 8})\n",
    "print(my_set2)"
   ]
  },
  {
   "cell_type": "code",
   "execution_count": 41,
   "id": "52e67df0",
   "metadata": {},
   "outputs": [
    {
     "name": "stdout",
     "output_type": "stream",
     "text": [
      "{1, 3, 4, 5, 6}\n",
      "{1, 3, 5, 6}\n",
      "{1, 3, 5}\n",
      "{1, 3, 5}\n"
     ]
    },
    {
     "ename": "KeyError",
     "evalue": "2",
     "output_type": "error",
     "traceback": [
      "\u001b[1;31m---------------------------------------------------------------------------\u001b[0m",
      "\u001b[1;31mKeyError\u001b[0m                                  Traceback (most recent call last)",
      "\u001b[1;32m<ipython-input-41-35d8b4e11d2f>\u001b[0m in \u001b[0;36m<module>\u001b[1;34m\u001b[0m\n\u001b[0;32m     24\u001b[0m \u001b[1;31m# Output: KeyError\u001b[0m\u001b[1;33m\u001b[0m\u001b[1;33m\u001b[0m\u001b[1;33m\u001b[0m\u001b[0m\n\u001b[0;32m     25\u001b[0m \u001b[1;33m\u001b[0m\u001b[0m\n\u001b[1;32m---> 26\u001b[1;33m \u001b[0mmy_set3\u001b[0m\u001b[1;33m.\u001b[0m\u001b[0mremove\u001b[0m\u001b[1;33m(\u001b[0m\u001b[1;36m2\u001b[0m\u001b[1;33m)\u001b[0m\u001b[1;33m\u001b[0m\u001b[1;33m\u001b[0m\u001b[0m\n\u001b[0m",
      "\u001b[1;31mKeyError\u001b[0m: 2"
     ]
    }
   ],
   "source": [
    "#Removing elements from a set\n",
    "# Difference between discard() and remove()\n",
    "\n",
    "# initialize my_set\n",
    "my_set3 = {1, 3, 4, 5, 6}\n",
    "print(my_set3)\n",
    "\n",
    "# discard an element\n",
    "my_set3.discard(4)\n",
    "print(my_set3)\n",
    "\n",
    "# remove an element\n",
    "my_set3.remove(6)\n",
    "print(my_set3)\n",
    "\n",
    "# discard an element\n",
    "# not present in my_set\n",
    "my_set3.discard(2)\n",
    "print(my_set3)\n",
    "\n",
    "# remove an element\n",
    "# not present in my_set\n",
    "# you will get an error.\n",
    "# Output: KeyError\n",
    "\n",
    "my_set3.remove(2)"
   ]
  },
  {
   "cell_type": "code",
   "execution_count": 42,
   "id": "483836d0",
   "metadata": {},
   "outputs": [
    {
     "name": "stdout",
     "output_type": "stream",
     "text": [
      "{1, 2, 3, 4, 5, 6, 7, 8}\n"
     ]
    }
   ],
   "source": [
    "#Set Union\n",
    "A = {1,2,3,4}\n",
    "B = {5,6,7,8}\n",
    "Uni = A.union(B)\n",
    "print(Uni)"
   ]
  },
  {
   "cell_type": "code",
   "execution_count": 43,
   "id": "69f4106b",
   "metadata": {},
   "outputs": [
    {
     "name": "stdout",
     "output_type": "stream",
     "text": [
      "{24, 18, 12, 6}\n"
     ]
    }
   ],
   "source": [
    "#Set intersection\n",
    "C = {4,8,12,16,20,24}\n",
    "D = {6,12,18,24}\n",
    "inter = C.intersection(D)\n",
    "print(D)"
   ]
  }
 ],
 "metadata": {
  "kernelspec": {
   "display_name": "Python 3",
   "language": "python",
   "name": "python3"
  },
  "language_info": {
   "codemirror_mode": {
    "name": "ipython",
    "version": 3
   },
   "file_extension": ".py",
   "mimetype": "text/x-python",
   "name": "python",
   "nbconvert_exporter": "python",
   "pygments_lexer": "ipython3",
   "version": "3.8.8"
  }
 },
 "nbformat": 4,
 "nbformat_minor": 5
}
